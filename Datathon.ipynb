{
  "nbformat": 4,
  "nbformat_minor": 0,
  "metadata": {
    "colab": {
      "provenance": [],
      "authorship_tag": "ABX9TyNB4/jIv+ESVJG0YbIfAep1",
      "include_colab_link": true
    },
    "kernelspec": {
      "name": "python3",
      "display_name": "Python 3"
    },
    "language_info": {
      "name": "python"
    }
  },
  "cells": [
    {
      "cell_type": "markdown",
      "metadata": {
        "id": "view-in-github",
        "colab_type": "text"
      },
      "source": [
        "<a href=\"https://colab.research.google.com/github/The-Pandwa/Datathon/blob/main/Datathon.ipynb\" target=\"_parent\"><img src=\"https://colab.research.google.com/assets/colab-badge.svg\" alt=\"Open In Colab\"/></a>"
      ]
    },
    {
      "cell_type": "code",
      "source": [
        "# Import Library\n",
        "import streamlit as st\n",
        "import pandas as pd\n",
        "import seaborn as sns\n",
        "import matplotlib.pyplot as plt"
      ],
      "metadata": {
        "id": "NrQfmym1v7Of"
      },
      "execution_count": null,
      "outputs": []
    },
    {
      "cell_type": "code",
      "source": [
        "# Import dataset\n",
        "link = \"https://raw.githubusercontent.com/murpi/wilddata/master/quests/cars.csv\"\n",
        "df_cars = pd.read_csv(link)"
      ],
      "metadata": {
        "id": "IpHnv98iv52z"
      },
      "execution_count": null,
      "outputs": []
    },
    {
      "cell_type": "code",
      "execution_count": null,
      "metadata": {
        "id": "XhHouvrvv3Yo"
      },
      "outputs": [],
      "source": [
        "# URL de l'image sur GitHub\n",
        "github_image_url = \"https://github.com/The-Pandwa/Project2/tree/main/image\"\n",
        "\n",
        "# Afficher l'image dans la barre latérale\n",
        "st.sidebar.image(github_image_url, use_column_width=True)\n",
        "\n",
        "# Création de la sidebar et features\n",
        "st.sidebar.title('Votre système de recommandation')\n",
        "\n",
        "# # Filtrer par film. Le point unique permet de retourner une lsite plutôt que d'avoir à saisir du texte.\n",
        "st.sidebar.write(\"Veuillez choisir un film :\")\n",
        "# selected_film = st.sidebar.multiselect('Sélectionnez votre film', df['title'].unique())\n",
        "# selected_film = re.sub(r\"[:',-]\", \" \", selected_film)\n",
        "\n",
        "# # Filtrer par acteur\n",
        "st.sidebar.write(\"Veuillez choisir une actrice/un acteur :\")\n",
        "# selected_actor = st.sidebar.multiselect('Sélectionnez votre actrice/acteur', df['actress/actor'].unique())\n",
        "# selected_actor = re.sub(r\"[:',-]\", \" \", selected_actor)\n",
        "\n",
        "# # Filtrer par réal\n",
        "st.sidebar.write(\"Veuillez choisir une réalisatrice/un réalisateur :\")\n",
        "# selected_director = st.sidebar.multiselect('Sélectionnez une réalisatrice/réalisateur', df['director'].unique())\n",
        "# selected_director = re.sub(r\"[:',-]\", \" \", selected_director)\n",
        "\n",
        "# # Filtrer par compositeur\n",
        "st.sidebar.write(\"Veuillez choisir une compositrice/un compositeur :\")\n",
        "# selected_composer = st.sidebar.multiselect('Sélectionnez une compositrice/compositeur', df['composer'].unique())\n",
        "# selected_composer = re.sub(r\"[:',-]\", \" \", selected_composer)"
      ]
    },
    {
      "cell_type": "code",
      "source": [
        "# # Filtrer votre DataFrame en fonction des sélections\n",
        "# filtered_df = df[df['title'].isin(selected_films) & df['actress/actor'].isin(selected_actors) &\n",
        "#                  df['director'].isin(selected_directors) & df['composer'].isin(selected_composers)]\n",
        "\n",
        "# # Afficher les résultats\n",
        "st.write(\"Résultats de la recherche :\")\n",
        "# st.write(filtered_df)"
      ],
      "metadata": {
        "id": "LGvGc0qfy3Gi"
      },
      "execution_count": null,
      "outputs": []
    },
    {
      "cell_type": "code",
      "source": [
        "# Système de recommandation :\n",
        "st.write(\"Voici nos recommandations en fonction des critères choisis :\")"
      ],
      "metadata": {
        "id": "PkZdILgzwAU1"
      },
      "execution_count": null,
      "outputs": []
    },
    {
      "cell_type": "code",
      "source": [
        "# Interface visuel\n",
        "# Voir live coding Florent sur Streamlit pour arranger le visuel des reco films\n"
      ],
      "metadata": {
        "id": "H4fyMljk2Llx"
      },
      "execution_count": null,
      "outputs": []
    }
  ]
}